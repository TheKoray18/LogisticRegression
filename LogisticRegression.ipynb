{
  "nbformat": 4,
  "nbformat_minor": 0,
  "metadata": {
    "colab": {
      "name": "LogisticRegression.ipynb",
      "provenance": [],
      "collapsed_sections": [],
      "authorship_tag": "ABX9TyNZcA2cOI3Uh2I1TRIVyg6k",
      "include_colab_link": true
    },
    "kernelspec": {
      "name": "python3",
      "display_name": "Python 3"
    },
    "accelerator": "GPU"
  },
  "cells": [
    {
      "cell_type": "markdown",
      "metadata": {
        "id": "view-in-github",
        "colab_type": "text"
      },
      "source": [
        "<a href=\"https://colab.research.google.com/github/TheKoray18/LogisticRegression/blob/main/LogisticRegression.ipynb\" target=\"_parent\"><img src=\"https://colab.research.google.com/assets/colab-badge.svg\" alt=\"Open In Colab\"/></a>"
      ]
    },
    {
      "cell_type": "markdown",
      "metadata": {
        "id": "C9SrQQG5DACc"
      },
      "source": [
        ""
      ]
    },
    {
      "cell_type": "markdown",
      "metadata": {
        "id": "0pTXSdImueWm"
      },
      "source": [
        "Kütüphanelerimizi çağırıyoruz\n"
      ]
    },
    {
      "cell_type": "code",
      "metadata": {
        "id": "YDPKHreHDOQI"
      },
      "source": [
        "import numpy as np \n",
        "import matplotlib.pyplot as plt"
      ],
      "execution_count": 1,
      "outputs": []
    },
    {
      "cell_type": "code",
      "metadata": {
        "id": "KXmPn6rPDTlo"
      },
      "source": [
        "def Sigmoid(x):\n",
        "  z=1/(1+np.exp(-x))   \n",
        "  return z"
      ],
      "execution_count": 2,
      "outputs": []
    },
    {
      "cell_type": "markdown",
      "metadata": {
        "id": "rFCkDzCnv_jp"
      },
      "source": [
        "- Sigmoid Fonksiyonunu oluşturduk.\n",
        "- Sigmoid fonkiyonunu bize 0-1 arasında değerler döndürür.Bunu da x'e değer vererek görebiliriz. "
      ]
    },
    {
      "cell_type": "code",
      "metadata": {
        "id": "sJCCD_5bDb_A",
        "outputId": "01657411-d72c-4f1b-acda-6bf4dd833484",
        "colab": {
          "base_uri": "https://localhost:8080/",
          "height": 34
        }
      },
      "source": [
        "x=5\n",
        "\n",
        "Sigmoid(x)"
      ],
      "execution_count": 13,
      "outputs": [
        {
          "output_type": "execute_result",
          "data": {
            "text/plain": [
              "0.9933071490757153"
            ]
          },
          "metadata": {
            "tags": []
          },
          "execution_count": 13
        }
      ]
    },
    {
      "cell_type": "markdown",
      "metadata": {
        "id": "5ZBzxijyUJvE"
      },
      "source": [
        "0 - 10 a kadar olan değerlerin sigmoid function degerleri"
      ]
    },
    {
      "cell_type": "code",
      "metadata": {
        "id": "l0xs0TN-P4-S",
        "outputId": "b08446b8-6657-4e16-ba20-d041d1ede059",
        "colab": {
          "base_uri": "https://localhost:8080/",
          "height": 204
        }
      },
      "source": [
        "values=[]\n",
        "for i in range(11):\n",
        "  values.append(Sigmoid(i))\n",
        "  print(\"{} = {}\".format(i,values[i]))"
      ],
      "execution_count": 22,
      "outputs": [
        {
          "output_type": "stream",
          "text": [
            "0 = 0.5\n",
            "1 = 0.7310585786300049\n",
            "2 = 0.8807970779778823\n",
            "3 = 0.9525741268224334\n",
            "4 = 0.9820137900379085\n",
            "5 = 0.9933071490757153\n",
            "6 = 0.9975273768433653\n",
            "7 = 0.9990889488055994\n",
            "8 = 0.9996646498695336\n",
            "9 = 0.9998766054240137\n",
            "10 = 0.9999546021312976\n"
          ],
          "name": "stdout"
        }
      ]
    },
    {
      "cell_type": "markdown",
      "metadata": {
        "id": "HAgAAwm4DlQ2"
      },
      "source": [
        "Weight ve Bias Değerlerimizi oluşturuyoruz\n"
      ]
    },
    {
      "cell_type": "code",
      "metadata": {
        "id": "BpwVdcGtxU0u"
      },
      "source": [
        "def weight_bias(dim):\n",
        "  w=np.full((dim,1),0.01)\n",
        "  b=0.0\n",
        "  return w,b"
      ],
      "execution_count": null,
      "outputs": []
    },
    {
      "cell_type": "code",
      "metadata": {
        "id": "nkFTY5xJDsv-",
        "outputId": "c2c1b996-37e2-4f07-f9fc-6761ecc02d56",
        "colab": {
          "base_uri": "https://localhost:8080/",
          "height": 50
        }
      },
      "source": [
        "dim=2\n",
        "\n",
        "weight_bias(dim)"
      ],
      "execution_count": null,
      "outputs": [
        {
          "output_type": "execute_result",
          "data": {
            "text/plain": [
              "(array([[0.01],\n",
              "        [0.01]]), 0.0)"
            ]
          },
          "metadata": {
            "tags": []
          },
          "execution_count": 7
        }
      ]
    },
    {
      "cell_type": "markdown",
      "metadata": {
        "id": "-M3Qa1kmDwx3"
      },
      "source": [
        "- Dim=Dimension.O parametre bizim resimlerimizin boyutu.Inputumuzda kaç adet resim var ise onun sayısıdır.Burada random bir değer verip test edebiliyoruz weight ve bias değerlerimizi\n",
        "\n",
        "Şimdi Forward Propagation'a başlayacağız.Forward Propagation ve Backward Propagation beraber tanımlayacağız."
      ]
    },
    {
      "cell_type": "code",
      "metadata": {
        "id": "l925yiLHDx5u"
      },
      "source": [
        "def Propagation(w,b,x,y):\n",
        "  z=np.dot(w.T,x)+b\n",
        "  \n",
        "  y_head=Sigmoid(z)\n",
        "\n",
        "  loss=-(y*np.log(y_head))-(1+y)*np.log(1-y_head)\n",
        "\n",
        "  cost=(np.sum(loss)) / x.shape[1]\n",
        "\n",
        "  #Backward Propagation\n",
        "\n",
        "  derivative_weight=(np.dot(x,((y_head-y).T))) / x.shape[1]\n",
        "\n",
        "  derivative_bias=np.sum(y_head-y) / x.shape[1]\n",
        "\n",
        "  gradients={\"dw\":derivative_weight,\"db\":derivative_bias}\n",
        "\n",
        "  return cost,gradients"
      ],
      "execution_count": null,
      "outputs": []
    },
    {
      "cell_type": "code",
      "metadata": {
        "id": "DM7icJI0D3dQ",
        "outputId": "d2d19692-0b09-49a1-9e7a-c8fb2286e481",
        "colab": {
          "base_uri": "https://localhost:8080/",
          "height": 84
        }
      },
      "source": [
        "w, b, x, y = np.array([[1.],[2.]]), 2., np.array([[1.,3.,-1.],[2.,5.,-1.2]]), np.array([[1,0,1]])\n",
        "\n",
        "cost,gradients=Propagation(w,b,x,y)\n",
        "\n",
        "print(\"Cost=\"+str(cost))\n",
        "print(\"derivative_weight=\"+str(gradients[\"dw\"]))\n",
        "print(\"derivative_bias=\"+str(gradients[\"db\"]))"
      ],
      "execution_count": null,
      "outputs": [
        {
          "output_type": "stream",
          "text": [
            "Cost=10.354662311598988\n",
            "derivative_weight=[[1.26709064]\n",
            " [1.98693234]]\n",
            "derivative_bias=0.06563491811493023\n"
          ],
          "name": "stdout"
        }
      ]
    },
    {
      "cell_type": "markdown",
      "metadata": {
        "id": "F2Rfrfz_EJqO"
      },
      "source": [
        "- y parametremiz bizim Tahmin(predict) değerlerimiz olduğundan O ile 1'lerden oluşan bir veri kümesi olmak zorunda.\n",
        "- Diğer parametrelerimizin değerlerini değiştirip weight ve bias parametrelerinin türev sonuçlarına ve cost fonksiyonu değerlerimizin sonuçlarına bakabiliriz"
      ]
    },
    {
      "cell_type": "code",
      "metadata": {
        "id": "PAgHgg0sEMO4"
      },
      "source": [
        "def Optimize(w,b,x,y,num_iteration,learning_rate):\n",
        "  costs=[]\n",
        "  costs2=[]\n",
        "  index=[]\n",
        "\n",
        "  for i in range(num_iteration):\n",
        "    cost,gradients=Propagation(w,b,x,y)\n",
        "    costs.append(cost)\n",
        "    \n",
        "    dw=gradients[\"dw\"]\n",
        "    db=gradients[\"db\"]\n",
        "\n",
        "    w= w - learning_rate * dw\n",
        "\n",
        "    b= b - learning_rate * db\n",
        "\n",
        "    if i % 10 == 0:\n",
        "      costs2.append(cost)\n",
        "      index.append(i)\n",
        "\n",
        "      print(\"Cost after iteration %i:%f\" %(i, cost))\n",
        "\n",
        "  params={\"w\":w,\"b\":b}\n",
        "\n",
        "  gradients={\"dw\":dw,\"db\":db}\n",
        "\n",
        "  plt.plot(index,costs2)\n",
        "  plt.xticks(index,rotation='vertical')\n",
        "  plt.xlabel(\"Number of Iterarion\")\n",
        "  plt.ylabel(\"Cost\")\n",
        "  plt.show()\n",
        "\n",
        "  return params,gradients,costs\n"
      ],
      "execution_count": null,
      "outputs": []
    },
    {
      "cell_type": "code",
      "metadata": {
        "id": "mC_6EhX-AKcM",
        "outputId": "9814eb62-406a-4ee1-877c-ac4a9cc4aa1c",
        "colab": {
          "base_uri": "https://localhost:8080/",
          "height": 725
        }
      },
      "source": [
        "params, gradients, costs = Optimize(w, b, x, y, num_iteration= 200, learning_rate = 0.009)\n",
        "\n",
        "print(\"w=\"+str(params[\"w\"]))\n",
        "print(\"b=\"+str(params[\"b\"]))\n",
        "print(\"dw=\"+str(gradients[\"dw\"]))\n",
        "print(\"db=\"+str(gradients[\"db\"]))"
      ],
      "execution_count": null,
      "outputs": [
        {
          "output_type": "stream",
          "text": [
            "Cost after iteration 0:10.354662\n",
            "Cost after iteration 10:9.591220\n",
            "Cost after iteration 20:8.855377\n",
            "Cost after iteration 30:8.149807\n",
            "Cost after iteration 40:7.475983\n",
            "Cost after iteration 50:6.834134\n",
            "Cost after iteration 60:6.223557\n",
            "Cost after iteration 70:5.643249\n",
            "Cost after iteration 80:5.092890\n",
            "Cost after iteration 90:4.574401\n",
            "Cost after iteration 100:4.094711\n",
            "Cost after iteration 110:3.670000\n",
            "Cost after iteration 120:3.326767\n",
            "Cost after iteration 130:3.086321\n",
            "Cost after iteration 140:2.940752\n",
            "Cost after iteration 150:2.860147\n",
            "Cost after iteration 160:2.817111\n",
            "Cost after iteration 170:2.794822\n",
            "Cost after iteration 180:2.784188\n",
            "Cost after iteration 190:2.780354\n"
          ],
          "name": "stdout"
        },
        {
          "output_type": "display_data",
          "data": {
            "image/png": "[encoded data removed]",
            "text/plain": [
              "<Figure size 432x288 with 1 Axes>"
            ]
          },
          "metadata": {
            "tags": [],
            "needs_background": "light"
          }
        },
        {
          "output_type": "stream",
          "text": [
            "w=[[-0.46460713]\n",
            " [-0.33438141]]\n",
            "b=1.7945735771248694\n",
            "dw=[[0.1294979 ]\n",
            " [0.16789161]]\n",
            "db=-0.061452440215221414\n"
          ],
          "name": "stdout"
        }
      ]
    },
    {
      "cell_type": "markdown",
      "metadata": {
        "id": "oIk-l38iE0LH"
      },
      "source": [
        "- Oluşturduğumuz listeleri (costs,costs2,index) depolayıp görselleştrimek için kullandık.\n",
        "\n",
        "- Number of Iteration= Bizim forward ve Backward Propagation kaç kez yaptığımızın sayısıdır.Bu şu demek;\n",
        "\n",
        "Bir kez forward yapıyorum ardından geriye dönüp backward yapıyorum ve daha sonra Gradient Descent metodu ile weight ve bias parametrelerini güncelliyorum.Bu yaptığımız işlem de number of iterations=1 oluyor.Biz num_iteration parametresine 200 dedik.Yani weight ve bias parametrelerini 200 kez güncellemiş olduk.\n",
        "\n",
        "- Weight ve Bias parametrelerini güncellerken yaptığımız işlem;\n",
        "\n",
        "   w= w - learning rate * weight Türevi\n",
        "\n",
        "   b= b - learning rate * bias Türevi\n",
        "\n",
        "- Learning rate= Öğrenme oranımızdır."
      ]
    },
    {
      "cell_type": "code",
      "metadata": {
        "id": "Zscyc2IKGIxE"
      },
      "source": [
        "def Predict(w,b,x):\n",
        "\n",
        "  m=x.shape[1]\n",
        "\n",
        "  y_prediction=np.zeros((1,m))\n",
        "\n",
        "  y_head=Sigmoid((np.dot(w.T,x)+b))\n",
        "\n",
        "  for i in range(y_head.shape[1]):\n",
        "\n",
        "    if y_head[0,i] <= 0.5:\n",
        "\n",
        "      y_prediction[0,i] == 0\n",
        "\n",
        "    else:\n",
        "\n",
        "      y_prediction[0,i] == 1\n",
        "\n",
        "  return y_prediction      \n"
      ],
      "execution_count": null,
      "outputs": []
    },
    {
      "cell_type": "code",
      "metadata": {
        "id": "klLP9mhnI4Uk",
        "outputId": "b3ab375b-f9ab-44ef-9e4d-567a631e595f",
        "colab": {
          "base_uri": "https://localhost:8080/",
          "height": 34
        }
      },
      "source": [
        "w = np.array([[0.1124579],[0.23106775]])\n",
        "b = -0.3\n",
        "x = np.array([[1.,-1.1,-3.2],[1.2,2.,0.1]])\n",
        "print (\"predictions = \" + str(Predict(w, b, x)))"
      ],
      "execution_count": null,
      "outputs": [
        {
          "output_type": "stream",
          "text": [
            "predictions = [[0. 0. 0.]]\n"
          ],
          "name": "stdout"
        }
      ]
    },
    {
      "cell_type": "markdown",
      "metadata": {
        "id": "HeBfrR7yUcDG"
      },
      "source": [
        "Prediction için Predict fonksiyonu oluşturduk\n",
        "\n",
        "- y_prediction=np.zeros ile 0'lardan oluşan bir array oluşturduk.\n",
        "\n",
        "- Sigmoid fonksiyonunu kullanarak sigmoid(z=(w.T*x)+b) ile y_head'ı olusturduk.\n",
        "\n",
        "- y_head 0.5'ten küçük olduğu değerlerde y_prediction=0 olacak \n",
        "\n",
        "- y_head 0.5'ten büyük olduğu değerlerde y_prediction=1 olacak\n",
        "\n",
        "- Çünkü Sigmoid fonksionu probabilistik(probability) değer döndürür"
      ]
    }
  ]
}